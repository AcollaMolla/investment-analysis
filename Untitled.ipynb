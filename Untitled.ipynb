{
 "cells": [
  {
   "cell_type": "markdown",
   "metadata": {},
   "source": [
    "# Portfolio withdrawal analysis\n",
    "\n",
    "## Question to answer"
   ]
  },
  {
   "cell_type": "code",
   "execution_count": 74,
   "metadata": {},
   "outputs": [],
   "source": [
    "import pandas as pd\n",
    "import glob\n",
    "import matplotlib.pyplot as plt\n",
    "import numpy as np\n",
    "from math import floor\n",
    "from scipy.stats import norm\n",
    "from datetime import datetime, timedelta\n",
    "from dateutil.relativedelta import relativedelta"
   ]
  },
  {
   "cell_type": "code",
   "execution_count": 132,
   "metadata": {},
   "outputs": [],
   "source": [
    "#Read file containing S&P500 historical data\n",
    "file = r'data/SPX.csv'\n",
    "df = pd.read_csv(file, index_col=None, header=0)\n",
    "\n",
    "#Date column is String, convert to Python Datetime\n",
    "df['Date'] = pd.to_datetime(df['Date'])\n",
    "\n",
    "#Set start date, number of years, withdrawal rate, etc.\n",
    "start_date = datetime(1927, 12, 30)\n",
    "end_date = datetime(1969, 9, 28)\n",
    "withdrawal_rate = 0.05\n",
    "number_of_years_to_withdraw = 50\n",
    "portfolio_start_value = 500000"
   ]
  },
  {
   "cell_type": "code",
   "execution_count": 122,
   "metadata": {},
   "outputs": [],
   "source": [
    "def forward_fill_portfolio_value(df, withdrawal_rate, portfolio_start_value):\n",
    "    df = df.set_index(np.arange(0, len(df)))\n",
    "    for i in range(1, len(df)):\n",
    "        df.loc[i, 'portfolio_value'] = (df.loc[i-1, 'portfolio_value'] * df.loc[i, 'change_since_previous_year'])\n",
    "        df.loc[i, 'portfolio_value'] = df.loc[i, 'portfolio_value'] - (portfolio_start_value * withdrawal_rate)\n",
    "    df = df.set_index(pd.DatetimeIndex(df['Date'])).resample(f\"365D\").agg('first')\n",
    "    return df"
   ]
  },
  {
   "cell_type": "code",
   "execution_count": 123,
   "metadata": {},
   "outputs": [],
   "source": [
    "def withdraw_for_n_years(df, start_date, end_date, withdrawal_rate, portfolio_start_value=500000):\n",
    "    \n",
    "    df = df[df['Date'] < end_date]\n",
    "    df = df[df['Date'] >= start_date]\n",
    "    df['old_index'] = df.index\n",
    "    df = df.set_index(pd.DatetimeIndex(df['Date'])).resample(f\"365D\").agg('first')\n",
    "    \n",
    "    while(start_date not in df.index):\n",
    "        start_date = start_date + timedelta(days=1)\n",
    "    \n",
    "    #df['open_one_year_later'] = df['Open'].shift(-1)\n",
    "    df['change_since_previous_year'] = (df['Open']/df['Open'].shift(1)).fillna(1)\n",
    "    df.loc[start_date, 'portfolio_value'] = portfolio_start_value\n",
    "    df = forward_fill_portfolio_value(df, withdrawal_rate, portfolio_start_value)\n",
    "    #display(df)\n",
    "    df = df[df['portfolio_value'] >= (portfolio_start_value * withdrawal_rate)]\n",
    "    #years_survived = relativedelta(df['Date'].iloc[-1], df['Date'].iloc[0]).years\n",
    "    \n",
    "    if(len(df) == 0):\n",
    "        return {\"start_date\": start_date, \"end_date\": None, \"years_survival\": 0}\n",
    "    \n",
    "    return {\"start_date\": df.iloc[0]['Date'], \"end_date\": df.iloc[-1]['Date'], \"years_survival\": len(df) - 1}\n",
    "    #df['added_capital'] = dca_monthly_investment_amount / dca_investment_frequency_per_month\n",
    "    #df['value_period_end'] = df['added_capital'] * (period_last_open / df['Open'])\n",
    "    #return {\"start_date\": df.iloc[0]['Date'], \"end_date\": df.iloc[-1]['Date'], \"investment_frequency\": floor(30 / dca_investment_frequency_per_month), \"value\": df['value_period_end'].sum()}"
   ]
  },
  {
   "cell_type": "code",
   "execution_count": 133,
   "metadata": {},
   "outputs": [],
   "source": [
    "result = []\n",
    "\n",
    "#Set current date to our simulation start date\n",
    "current_date = start_date\n",
    "\n",
    "while current_date < end_date:\n",
    "    result.append(withdraw_for_n_years(df, current_date, current_date + timedelta(days=365*50), withdrawal_rate, portfolio_start_value))\n",
    "    \n",
    "    current_date = current_date + timedelta(days=30)\n",
    "    \n",
    "#Convert results to df\n",
    "results_df = pd.DataFrame(result)"
   ]
  },
  {
   "cell_type": "code",
   "execution_count": 134,
   "metadata": {},
   "outputs": [
    {
     "data": {
      "text/html": [
       "<div>\n",
       "<style scoped>\n",
       "    .dataframe tbody tr th:only-of-type {\n",
       "        vertical-align: middle;\n",
       "    }\n",
       "\n",
       "    .dataframe tbody tr th {\n",
       "        vertical-align: top;\n",
       "    }\n",
       "\n",
       "    .dataframe thead th {\n",
       "        text-align: right;\n",
       "    }\n",
       "</style>\n",
       "<table border=\"1\" class=\"dataframe\">\n",
       "  <thead>\n",
       "    <tr style=\"text-align: right;\">\n",
       "      <th></th>\n",
       "      <th>years_survival</th>\n",
       "    </tr>\n",
       "  </thead>\n",
       "  <tbody>\n",
       "    <tr>\n",
       "      <th>mean</th>\n",
       "      <td>43.068762</td>\n",
       "    </tr>\n",
       "    <tr>\n",
       "      <th>min</th>\n",
       "      <td>5.000000</td>\n",
       "    </tr>\n",
       "    <tr>\n",
       "      <th>max</th>\n",
       "      <td>49.000000</td>\n",
       "    </tr>\n",
       "    <tr>\n",
       "      <th>median</th>\n",
       "      <td>49.000000</td>\n",
       "    </tr>\n",
       "  </tbody>\n",
       "</table>\n",
       "</div>"
      ],
      "text/plain": [
       "        years_survival\n",
       "mean         43.068762\n",
       "min           5.000000\n",
       "max          49.000000\n",
       "median       49.000000"
      ]
     },
     "execution_count": 134,
     "metadata": {},
     "output_type": "execute_result"
    }
   ],
   "source": [
    "results_df.agg({'years_survival' : ['mean', 'min', 'max', 'median']})"
   ]
  },
  {
   "cell_type": "code",
   "execution_count": 1,
   "metadata": {},
   "outputs": [
    {
     "ename": "NameError",
     "evalue": "name 'results_df' is not defined",
     "output_type": "error",
     "traceback": [
      "\u001b[1;31m---------------------------------------------------------------------------\u001b[0m",
      "\u001b[1;31mNameError\u001b[0m                                 Traceback (most recent call last)",
      "\u001b[1;32m<ipython-input-1-176fc89343db>\u001b[0m in \u001b[0;36m<module>\u001b[1;34m\u001b[0m\n\u001b[1;32m----> 1\u001b[1;33m \u001b[0mdisplay\u001b[0m\u001b[1;33m(\u001b[0m\u001b[0mresults_df\u001b[0m\u001b[1;33m[\u001b[0m\u001b[0mresults_df\u001b[0m\u001b[1;33m[\u001b[0m\u001b[1;34m'years_survival'\u001b[0m\u001b[1;33m]\u001b[0m \u001b[1;33m==\u001b[0m \u001b[1;36m5\u001b[0m\u001b[1;33m]\u001b[0m\u001b[1;33m)\u001b[0m\u001b[1;33m\u001b[0m\u001b[1;33m\u001b[0m\u001b[0m\n\u001b[0m",
      "\u001b[1;31mNameError\u001b[0m: name 'results_df' is not defined"
     ]
    }
   ],
   "source": [
    "display(results_df[results_df['years_survival'] == 5])"
   ]
  },
  {
   "cell_type": "code",
   "execution_count": 135,
   "metadata": {},
   "outputs": [
    {
     "data": {
      "text/plain": [
       "<matplotlib.collections.PolyCollection at 0x20ffb9dae88>"
      ]
     },
     "execution_count": 135,
     "metadata": {},
     "output_type": "execute_result"
    },
    {
     "data": {
      "image/png": "[encoded data removed]",
      "text/plain": [
       "<Figure size 1152x648 with 1 Axes>"
      ]
     },
     "metadata": {
      "needs_background": "light"
     },
     "output_type": "display_data"
    }
   ],
   "source": [
    "test_df = results_df\n",
    "arr = test_df['years_survival']\n",
    "plt.figure(figsize=(16,9))\n",
    "ci = norm(*norm.fit(arr)).interval(0.95)  # fit a normal distribution and get 95% c.i.\n",
    "height, bins, patches = plt.hist(arr, alpha=0.3, bins=100)\n",
    "plt.fill_betweenx([0, height.max()], ci[0], ci[1], color='g', alpha=0.1)"
   ]
  }
 ],
 "metadata": {
  "kernelspec": {
   "display_name": "Python 3",
   "language": "python",
   "name": "python3"
  },
  "language_info": {
   "codemirror_mode": {
    "name": "ipython",
    "version": 3
   },
   "file_extension": ".py",
   "mimetype": "text/x-python",
   "name": "python",
   "nbconvert_exporter": "python",
   "pygments_lexer": "ipython3",
   "version": "3.7.6"
  }
 },
 "nbformat": 4,
 "nbformat_minor": 4
}
