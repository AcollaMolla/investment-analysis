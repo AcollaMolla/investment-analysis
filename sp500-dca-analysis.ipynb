{
 "cells": [
  {
   "cell_type": "code",
   "execution_count": 54,
   "id": "2a19fb4a",
   "metadata": {},
   "outputs": [],
   "source": [
    "import pandas as pd\n",
    "import glob\n",
    "import matplotlib.pyplot as plt\n",
    "import numpy as np\n",
    "from math import floor\n",
    "from scipy.stats import norm\n",
    "from datetime import datetime, timedelta"
   ]
  },
  {
   "cell_type": "code",
   "execution_count": 100,
   "id": "67d5ebf1",
   "metadata": {
    "scrolled": true
   },
   "outputs": [
    {
     "name": "stdout",
     "output_type": "stream",
     "text": [
      "Testing investment frequency of 1 days\n",
      "Testing investment frequency of 2 days\n",
      "Testing investment frequency of 3 days\n"
     ]
    }
   ],
   "source": [
    "def save_for_n_years_df(df, start_date, end_date, dca_monthly_investment_amount, dca_investment_frequency_per_month):\n",
    "    \n",
    "    df = df[df['Date'] < end_date]\n",
    "    df = df[df['Date'] >= start_date]\n",
    "    df = df.set_index(pd.DatetimeIndex(df['Date'])).resample(f\"{floor(30 / dca_investment_frequency_per_month)}D\").agg('first')\n",
    "    period_last_open = df.iloc[-1]['Open']\n",
    "    df['added_capital'] = dca_monthly_investment_amount / dca_investment_frequency_per_month\n",
    "    df['value_period_end'] = df['added_capital'] * (period_last_open / df['Open'])\n",
    "    return {\"start_date\": df.iloc[0]['Date'], \"end_date\": df.iloc[-1]['Date'], \"investment_frequency\": floor(30 / dca_investment_frequency_per_month), \"value\": df['value_period_end'].sum()}\n",
    "\n",
    "\n",
    "#From what date we will start run our simulations\n",
    "simulation_start_date = datetime(1927, 12, 30)\n",
    "\n",
    "#Until what date we will run our simulations\n",
    "simulation_end_date = datetime(1997, 12, 31)\n",
    "\n",
    "#What investment frequencies to test - 4/month, 1/month, every two months, every three months\n",
    "investment_frequencies_per_month = [30, 15, 8]\n",
    "\n",
    "#Read file containing S&P500 historical data\n",
    "file = r'C:\\Users\\anton\\Documents\\investment_analysis\\data\\SPX.csv'\n",
    "df = pd.read_csv(file, index_col=None, header=0)\n",
    "\n",
    "#Date column is String, convert to Python Datetime\n",
    "df['Date'] = pd.to_datetime(df['Date'])\n",
    "\n",
    "#Results will go here\n",
    "result = []\n",
    "\n",
    "#Loop through each investment frequency\n",
    "for investment_frequency_per_month in investment_frequencies_per_month:\n",
    "    \n",
    "    #Set current date to our simulation start date\n",
    "    simulation_current_date = simulation_start_date\n",
    "    \n",
    "    print(f\"Testing investment frequency of {floor(30 / investment_frequency_per_month)} days\")\n",
    "\n",
    "    #Simulate starting investing\n",
    "    while simulation_current_date < simulation_end_date:\n",
    "    \n",
    "        #Save result - Start date, end date, current frequency and value\n",
    "        result.append(save_for_n_years_df(df, simulation_current_date, simulation_current_date + timedelta(days=365*25), 10000, investment_frequency_per_month))\n",
    "    \n",
    "        #Start simulating from \n",
    "        simulation_current_date = simulation_current_date + timedelta(days=1)\n",
    "    \n",
    "#Convert results to df\n",
    "results_df = pd.DataFrame(result)"
   ]
  },
  {
   "cell_type": "markdown",
   "id": "9d5172f2",
   "metadata": {},
   "source": [
    "# Show result for each invesstment frequency"
   ]
  },
  {
   "cell_type": "code",
   "execution_count": 101,
   "id": "0265d05d",
   "metadata": {},
   "outputs": [
    {
     "data": {
      "text/html": [
       "<div>\n",
       "<style scoped>\n",
       "    .dataframe tbody tr th:only-of-type {\n",
       "        vertical-align: middle;\n",
       "    }\n",
       "\n",
       "    .dataframe tbody tr th {\n",
       "        vertical-align: top;\n",
       "    }\n",
       "\n",
       "    .dataframe thead tr th {\n",
       "        text-align: left;\n",
       "    }\n",
       "\n",
       "    .dataframe thead tr:last-of-type th {\n",
       "        text-align: right;\n",
       "    }\n",
       "</style>\n",
       "<table border=\"1\" class=\"dataframe\">\n",
       "  <thead>\n",
       "    <tr>\n",
       "      <th></th>\n",
       "      <th colspan=\"4\" halign=\"left\">value</th>\n",
       "    </tr>\n",
       "    <tr>\n",
       "      <th></th>\n",
       "      <th>mean</th>\n",
       "      <th>min</th>\n",
       "      <th>max</th>\n",
       "      <th>median</th>\n",
       "    </tr>\n",
       "    <tr>\n",
       "      <th>investment_frequency</th>\n",
       "      <th></th>\n",
       "      <th></th>\n",
       "      <th></th>\n",
       "      <th></th>\n",
       "    </tr>\n",
       "  </thead>\n",
       "  <tbody>\n",
       "    <tr>\n",
       "      <th>1</th>\n",
       "      <td>6.281136e+06</td>\n",
       "      <td>2.615649e+06</td>\n",
       "      <td>1.606348e+07</td>\n",
       "      <td>5.821119e+06</td>\n",
       "    </tr>\n",
       "    <tr>\n",
       "      <th>2</th>\n",
       "      <td>7.674275e+06</td>\n",
       "      <td>3.202953e+06</td>\n",
       "      <td>1.953898e+07</td>\n",
       "      <td>7.143955e+06</td>\n",
       "    </tr>\n",
       "    <tr>\n",
       "      <th>3</th>\n",
       "      <td>1.121780e+07</td>\n",
       "      <td>4.687745e+06</td>\n",
       "      <td>2.850801e+07</td>\n",
       "      <td>1.044011e+07</td>\n",
       "    </tr>\n",
       "  </tbody>\n",
       "</table>\n",
       "</div>"
      ],
      "text/plain": [
       "                             value                                          \n",
       "                              mean           min           max        median\n",
       "investment_frequency                                                        \n",
       "1                     6.281136e+06  2.615649e+06  1.606348e+07  5.821119e+06\n",
       "2                     7.674275e+06  3.202953e+06  1.953898e+07  7.143955e+06\n",
       "3                     1.121780e+07  4.687745e+06  2.850801e+07  1.044011e+07"
      ]
     },
     "execution_count": 101,
     "metadata": {},
     "output_type": "execute_result"
    }
   ],
   "source": [
    "#Find the best frequency for investing\n",
    "results_df.groupby('investment_frequency').agg({'value' : ['mean', 'min', 'max', 'median']})"
   ]
  },
  {
   "cell_type": "markdown",
   "id": "15d3bf4c",
   "metadata": {},
   "source": [
    "# Show best results"
   ]
  },
  {
   "cell_type": "code",
   "execution_count": 102,
   "id": "7b53859b",
   "metadata": {
    "scrolled": true
   },
   "outputs": [
    {
     "data": {
      "text/html": [
       "<div>\n",
       "<style scoped>\n",
       "    .dataframe tbody tr th:only-of-type {\n",
       "        vertical-align: middle;\n",
       "    }\n",
       "\n",
       "    .dataframe tbody tr th {\n",
       "        vertical-align: top;\n",
       "    }\n",
       "\n",
       "    .dataframe thead th {\n",
       "        text-align: right;\n",
       "    }\n",
       "</style>\n",
       "<table border=\"1\" class=\"dataframe\">\n",
       "  <thead>\n",
       "    <tr style=\"text-align: right;\">\n",
       "      <th></th>\n",
       "      <th>start_date</th>\n",
       "      <th>end_date</th>\n",
       "      <th>investment_frequency</th>\n",
       "      <th>value</th>\n",
       "    </tr>\n",
       "  </thead>\n",
       "  <tbody>\n",
       "    <tr>\n",
       "      <th>10824</th>\n",
       "      <td>1957-08-19</td>\n",
       "      <td>1982-08-11</td>\n",
       "      <td>1</td>\n",
       "      <td>2.627724e+06</td>\n",
       "    </tr>\n",
       "    <tr>\n",
       "      <th>10825</th>\n",
       "      <td>1957-08-19</td>\n",
       "      <td>1982-08-12</td>\n",
       "      <td>1</td>\n",
       "      <td>2.622180e+06</td>\n",
       "    </tr>\n",
       "    <tr>\n",
       "      <th>10826</th>\n",
       "      <td>1957-08-20</td>\n",
       "      <td>1982-08-13</td>\n",
       "      <td>1</td>\n",
       "      <td>2.617153e+06</td>\n",
       "    </tr>\n",
       "    <tr>\n",
       "      <th>10827</th>\n",
       "      <td>1957-08-21</td>\n",
       "      <td>1982-08-13</td>\n",
       "      <td>1</td>\n",
       "      <td>2.616399e+06</td>\n",
       "    </tr>\n",
       "    <tr>\n",
       "      <th>10828</th>\n",
       "      <td>1957-08-22</td>\n",
       "      <td>1982-08-13</td>\n",
       "      <td>1</td>\n",
       "      <td>2.615649e+06</td>\n",
       "    </tr>\n",
       "  </tbody>\n",
       "</table>\n",
       "</div>"
      ],
      "text/plain": [
       "      start_date   end_date  investment_frequency         value\n",
       "10824 1957-08-19 1982-08-11                     1  2.627724e+06\n",
       "10825 1957-08-19 1982-08-12                     1  2.622180e+06\n",
       "10826 1957-08-20 1982-08-13                     1  2.617153e+06\n",
       "10827 1957-08-21 1982-08-13                     1  2.616399e+06\n",
       "10828 1957-08-22 1982-08-13                     1  2.615649e+06"
      ]
     },
     "execution_count": 102,
     "metadata": {},
     "output_type": "execute_result"
    }
   ],
   "source": [
    "results_df.sort_values(by=['value'], inplace=True, ascending=False)\n",
    "results_df.tail()"
   ]
  },
  {
   "cell_type": "markdown",
   "id": "e54fb7e3",
   "metadata": {},
   "source": [
    "# Plot graph"
   ]
  },
  {
   "cell_type": "code",
   "execution_count": 103,
   "id": "a9f49d6f",
   "metadata": {},
   "outputs": [
    {
     "data": {
      "image/png": "[encoded data removed]",
      "text/plain": [
       "<Figure size 1152x648 with 1 Axes>"
      ]
     },
     "metadata": {
      "needs_background": "light"
     },
     "output_type": "display_data"
    }
   ],
   "source": [
    "fig, ax = plt.subplots()\n",
    "for key, grp in results_df.groupby(['investment_frequency']):\n",
    "    ax = grp.plot(ax = ax, kind='hist', x='start_date', y='value', label = key, figsize=(16,9), bins=1000)\n",
    "plt.show()"
   ]
  },
  {
   "cell_type": "code",
   "execution_count": 105,
   "id": "c61a83a4",
   "metadata": {},
   "outputs": [
    {
     "data": {
      "image/png": "[encoded data removed]",
      "text/plain": [
       "<Figure size 1152x648 with 1 Axes>"
      ]
     },
     "metadata": {
      "needs_background": "light"
     },
     "output_type": "display_data"
    }
   ],
   "source": [
    "ax = results_df.hist(column='value', bins=100, figsize=(16,9))"
   ]
  },
  {
   "cell_type": "markdown",
   "id": "9f4b19be",
   "metadata": {},
   "source": [
    "## Create historgram showing 95% interval"
   ]
  },
  {
   "cell_type": "code",
   "execution_count": 108,
   "id": "9918f6c0",
   "metadata": {},
   "outputs": [
    {
     "data": {
      "text/plain": [
       "<matplotlib.collections.PolyCollection at 0x1d01769b460>"
      ]
     },
     "execution_count": 108,
     "metadata": {},
     "output_type": "execute_result"
    },
    {
     "data": {
      "image/png": "[encoded data removed]",
      "text/plain": [
       "<Figure size 1152x648 with 1 Axes>"
      ]
     },
     "metadata": {
      "needs_background": "light"
     },
     "output_type": "display_data"
    }
   ],
   "source": [
    "test_df = results_df[results_df['investment_frequency'] == 3]\n",
    "arr = test_df['value']\n",
    "plt.figure(figsize=(16,9))\n",
    "ci = norm(*norm.fit(arr)).interval(0.95)  # fit a normal distribution and get 95% c.i.\n",
    "height, bins, patches = plt.hist(arr, alpha=0.3, bins=100)\n",
    "plt.fill_betweenx([0, height.max()], ci[0], ci[1], color='g', alpha=0.1)"
   ]
  },
  {
   "cell_type": "markdown",
   "id": "d631d3c4",
   "metadata": {},
   "source": [
    "## Show histogram 95% for all"
   ]
  },
  {
   "cell_type": "code",
   "execution_count": 94,
   "id": "41731088",
   "metadata": {},
   "outputs": [
    {
     "data": {
      "image/png": "[encoded data removed]",
      "text/plain": [
       "<Figure size 432x288 with 1 Axes>"
      ]
     },
     "metadata": {
      "needs_background": "light"
     },
     "output_type": "display_data"
    }
   ],
   "source": [
    "fig, ax = plt.subplots()\n",
    "color_index = 0\n",
    "colors = ['g', 'b', 'r', 'y']\n",
    "\n",
    "for key, grp in results_df.groupby(['investment_frequency']):\n",
    "    arr = grp['value']\n",
    "    ci = norm(*norm.fit(arr)).interval(0.95)  # fit a normal distribution and get 95% c.i.\n",
    "    height, bins, patches = plt.hist(arr, alpha=0.3, bins=100)\n",
    "    plt.fill_betweenx([0, height.max()], ci[0], ci[1], color=colors[color_index], alpha=0.1)\n",
    "    color_index += 1\n",
    "plt.show()"
   ]
  }
 ],
 "metadata": {
  "kernelspec": {
   "display_name": "Python 3 (ipykernel)",
   "language": "python",
   "name": "python3"
  },
  "language_info": {
   "codemirror_mode": {
    "name": "ipython",
    "version": 3
   },
   "file_extension": ".py",
   "mimetype": "text/x-python",
   "name": "python",
   "nbconvert_exporter": "python",
   "pygments_lexer": "ipython3",
   "version": "3.9.7"
  }
 },
 "nbformat": 4,
 "nbformat_minor": 5
}
