{
 "cells": [
  {
   "cell_type": "code",
   "execution_count": 3,
   "id": "2a19fb4a",
   "metadata": {},
   "outputs": [],
   "source": [
    "import pandas as pd\n",
    "import glob\n",
    "import matplotlib.pyplot as plt\n",
    "import numpy as np\n",
    "from math import floor\n",
    "from scipy.stats import norm\n",
    "from datetime import datetime, timedelta"
   ]
  },
  {
   "cell_type": "markdown",
   "id": "79788b0b",
   "metadata": {},
   "source": [
    "# Create function for simulating saving for n years"
   ]
  },
  {
   "cell_type": "code",
   "execution_count": 4,
   "id": "67d5ebf1",
   "metadata": {
    "scrolled": true
   },
   "outputs": [],
   "source": [
    "def save_for_n_years_df(df, start_date, end_date, dca_monthly_investment_amount, dca_investment_frequency_per_month):\n",
    "    \n",
    "    df = df[df['Date'] < end_date]\n",
    "    df = df[df['Date'] >= start_date]\n",
    "    df = df.set_index(pd.DatetimeIndex(df['Date'])).resample(f\"{floor(30 / dca_investment_frequency_per_month)}D\").agg('first')\n",
    "    period_last_open = df.iloc[-1]['Open']\n",
    "    df['added_capital'] = dca_monthly_investment_amount / dca_investment_frequency_per_month\n",
    "    df['value_period_end'] = df['added_capital'] * (period_last_open / df['Open'])\n",
    "    return {\"start_date\": df.iloc[0]['Date'], \"end_date\": df.iloc[-1]['Date'], \"investment_frequency\": floor(30 / dca_investment_frequency_per_month), \"value\": df['value_period_end'].sum()}"
   ]
  },
  {
   "cell_type": "markdown",
   "id": "737dac2c",
   "metadata": {},
   "source": [
    "# Set simulation parameters"
   ]
  },
  {
   "cell_type": "code",
   "execution_count": 5,
   "id": "555a3491",
   "metadata": {},
   "outputs": [],
   "source": [
    "#From what date we will start run our simulations\n",
    "simulation_start_date = datetime(1927, 12, 30)\n",
    "\n",
    "#Until what date we will run our simulations\n",
    "simulation_end_date = datetime(1928, 12, 31)\n",
    "\n",
    "#What investment frequencies to test - 4/month and 1/month\n",
    "investment_frequencies_per_month = [4, 2, 1]\n",
    "\n",
    "#Read file containing S&P500 historical data\n",
    "file = r'C:\\Users\\anton\\Documents\\investment_analysis\\data\\SPX.csv'\n",
    "df = pd.read_csv(file, index_col=None, header=0)\n",
    "\n",
    "#Date column is String, convert to Python Datetime\n",
    "df['Date'] = pd.to_datetime(df['Date'])\n",
    "\n",
    "#Results will go here\n",
    "result = []"
   ]
  },
  {
   "cell_type": "markdown",
   "id": "c2fb2936",
   "metadata": {},
   "source": [
    "# Start simulation"
   ]
  },
  {
   "cell_type": "code",
   "execution_count": 6,
   "id": "a0da0a32",
   "metadata": {},
   "outputs": [
    {
     "name": "stdout",
     "output_type": "stream",
     "text": [
      "Testing investment frequency of 7 days\n",
      "Testing investment frequency of 15 days\n",
      "Testing investment frequency of 30 days\n"
     ]
    }
   ],
   "source": [
    "#Loop through each investment frequency\n",
    "for investment_frequency_per_month in investment_frequencies_per_month:\n",
    "    \n",
    "    #Set current date to our simulation start date\n",
    "    simulation_current_date = simulation_start_date\n",
    "    \n",
    "    print(f\"Testing investment frequency of {floor(30 / investment_frequency_per_month)} days\")\n",
    "\n",
    "    #Simulate starting investing\n",
    "    while simulation_current_date < simulation_end_date:\n",
    "    \n",
    "        #Save result - Start date, end date, current frequency and value\n",
    "        result.append(save_for_n_years_df(df, simulation_current_date, simulation_current_date + timedelta(days=365*25), 10000, investment_frequency_per_month))\n",
    "    \n",
    "        #Start simulating from \n",
    "        simulation_current_date = simulation_current_date + timedelta(days=1)\n",
    "    \n",
    "#Convert results to df\n",
    "results_df = pd.DataFrame(result)"
   ]
  },
  {
   "cell_type": "markdown",
   "id": "9d5172f2",
   "metadata": {},
   "source": [
    "# Results\n",
    "<p> These are the results after running a simulation where a person invests n SEK for y years"
   ]
  },
  {
   "cell_type": "markdown",
   "id": "3aa7f810",
   "metadata": {},
   "source": [
    "## Investment frequencies\n",
    "<p> What is the best frequency for investing your money? Once a month? Twice a month? Or perhaps more seldom? </p>"
   ]
  },
  {
   "cell_type": "code",
   "execution_count": 7,
   "id": "e3cf3746",
   "metadata": {},
   "outputs": [
    {
     "data": {
      "text/html": [
       "<div>\n",
       "<style scoped>\n",
       "    .dataframe tbody tr th:only-of-type {\n",
       "        vertical-align: middle;\n",
       "    }\n",
       "\n",
       "    .dataframe tbody tr th {\n",
       "        vertical-align: top;\n",
       "    }\n",
       "\n",
       "    .dataframe thead tr th {\n",
       "        text-align: left;\n",
       "    }\n",
       "\n",
       "    .dataframe thead tr:last-of-type th {\n",
       "        text-align: right;\n",
       "    }\n",
       "</style>\n",
       "<table border=\"1\" class=\"dataframe\">\n",
       "  <thead>\n",
       "    <tr>\n",
       "      <th></th>\n",
       "      <th colspan=\"4\" halign=\"left\">value</th>\n",
       "    </tr>\n",
       "    <tr>\n",
       "      <th></th>\n",
       "      <th>mean</th>\n",
       "      <th>min</th>\n",
       "      <th>max</th>\n",
       "      <th>median</th>\n",
       "    </tr>\n",
       "    <tr>\n",
       "      <th>investment_frequency</th>\n",
       "      <th></th>\n",
       "      <th></th>\n",
       "      <th></th>\n",
       "      <th></th>\n",
       "    </tr>\n",
       "  </thead>\n",
       "  <tbody>\n",
       "    <tr>\n",
       "      <th>7</th>\n",
       "      <td>6.191325e+06</td>\n",
       "      <td>5.667450e+06</td>\n",
       "      <td>6.683085e+06</td>\n",
       "      <td>6.157920e+06</td>\n",
       "    </tr>\n",
       "    <tr>\n",
       "      <th>15</th>\n",
       "      <td>5.786248e+06</td>\n",
       "      <td>5.298005e+06</td>\n",
       "      <td>6.239944e+06</td>\n",
       "      <td>5.757065e+06</td>\n",
       "    </tr>\n",
       "    <tr>\n",
       "      <th>30</th>\n",
       "      <td>5.791814e+06</td>\n",
       "      <td>5.305179e+06</td>\n",
       "      <td>6.240667e+06</td>\n",
       "      <td>5.766355e+06</td>\n",
       "    </tr>\n",
       "  </tbody>\n",
       "</table>\n",
       "</div>"
      ],
      "text/plain": [
       "                             value                                          \n",
       "                              mean           min           max        median\n",
       "investment_frequency                                                        \n",
       "7                     6.191325e+06  5.667450e+06  6.683085e+06  6.157920e+06\n",
       "15                    5.786248e+06  5.298005e+06  6.239944e+06  5.757065e+06\n",
       "30                    5.791814e+06  5.305179e+06  6.240667e+06  5.766355e+06"
      ]
     },
     "execution_count": 7,
     "metadata": {},
     "output_type": "execute_result"
    }
   ],
   "source": [
    "#Group result by investment frequency\n",
    "results_df.groupby('investment_frequency').agg({'value' : ['mean', 'min', 'max', 'median']})"
   ]
  },
  {
   "cell_type": "markdown",
   "id": "310ccd08",
   "metadata": {},
   "source": [
    "### Show the best and worst investment frequencies"
   ]
  },
  {
   "cell_type": "code",
   "execution_count": 8,
   "id": "0265d05d",
   "metadata": {},
   "outputs": [
    {
     "data": {
      "text/html": [
       "<div>\n",
       "<style scoped>\n",
       "    .dataframe tbody tr th:only-of-type {\n",
       "        vertical-align: middle;\n",
       "    }\n",
       "\n",
       "    .dataframe tbody tr th {\n",
       "        vertical-align: top;\n",
       "    }\n",
       "\n",
       "    .dataframe thead th {\n",
       "        text-align: right;\n",
       "    }\n",
       "</style>\n",
       "<table border=\"1\" class=\"dataframe\">\n",
       "  <thead>\n",
       "    <tr style=\"text-align: right;\">\n",
       "      <th></th>\n",
       "      <th>start_date</th>\n",
       "      <th>end_date</th>\n",
       "      <th>investment_frequency</th>\n",
       "      <th>value</th>\n",
       "    </tr>\n",
       "  </thead>\n",
       "  <tbody>\n",
       "    <tr>\n",
       "      <th>16</th>\n",
       "      <td>1928-01-16</td>\n",
       "      <td>1953-01-05</td>\n",
       "      <td>7</td>\n",
       "      <td>6.683085e+06</td>\n",
       "    </tr>\n",
       "    <tr>\n",
       "      <th>17</th>\n",
       "      <td>1928-01-16</td>\n",
       "      <td>1953-01-05</td>\n",
       "      <td>7</td>\n",
       "      <td>6.683085e+06</td>\n",
       "    </tr>\n",
       "    <tr>\n",
       "      <th>15</th>\n",
       "      <td>1928-01-16</td>\n",
       "      <td>1953-01-05</td>\n",
       "      <td>7</td>\n",
       "      <td>6.683085e+06</td>\n",
       "    </tr>\n",
       "    <tr>\n",
       "      <th>11</th>\n",
       "      <td>1928-01-10</td>\n",
       "      <td>1952-12-30</td>\n",
       "      <td>7</td>\n",
       "      <td>6.665448e+06</td>\n",
       "    </tr>\n",
       "    <tr>\n",
       "      <th>12</th>\n",
       "      <td>1928-01-11</td>\n",
       "      <td>1952-12-31</td>\n",
       "      <td>7</td>\n",
       "      <td>6.656314e+06</td>\n",
       "    </tr>\n",
       "  </tbody>\n",
       "</table>\n",
       "</div>"
      ],
      "text/plain": [
       "   start_date   end_date  investment_frequency         value\n",
       "16 1928-01-16 1953-01-05                     7  6.683085e+06\n",
       "17 1928-01-16 1953-01-05                     7  6.683085e+06\n",
       "15 1928-01-16 1953-01-05                     7  6.683085e+06\n",
       "11 1928-01-10 1952-12-30                     7  6.665448e+06\n",
       "12 1928-01-11 1952-12-31                     7  6.656314e+06"
      ]
     },
     "execution_count": 8,
     "metadata": {},
     "output_type": "execute_result"
    }
   ],
   "source": [
    "#Find the best frequency for investing\n",
    "results_df.sort_values(by=['value'], inplace=True, ascending=False)\n",
    "results_df.head()"
   ]
  },
  {
   "cell_type": "code",
   "execution_count": 9,
   "id": "8cf65f27",
   "metadata": {},
   "outputs": [
    {
     "data": {
      "text/html": [
       "<div>\n",
       "<style scoped>\n",
       "    .dataframe tbody tr th:only-of-type {\n",
       "        vertical-align: middle;\n",
       "    }\n",
       "\n",
       "    .dataframe tbody tr th {\n",
       "        vertical-align: top;\n",
       "    }\n",
       "\n",
       "    .dataframe thead th {\n",
       "        text-align: right;\n",
       "    }\n",
       "</style>\n",
       "<table border=\"1\" class=\"dataframe\">\n",
       "  <thead>\n",
       "    <tr style=\"text-align: right;\">\n",
       "      <th></th>\n",
       "      <th>start_date</th>\n",
       "      <th>end_date</th>\n",
       "      <th>investment_frequency</th>\n",
       "      <th>value</th>\n",
       "    </tr>\n",
       "  </thead>\n",
       "  <tbody>\n",
       "    <tr>\n",
       "      <th>1004</th>\n",
       "      <td>1928-09-25</td>\n",
       "      <td>1953-09-14</td>\n",
       "      <td>30</td>\n",
       "      <td>5.305179e+06</td>\n",
       "    </tr>\n",
       "    <tr>\n",
       "      <th>636</th>\n",
       "      <td>1928-09-24</td>\n",
       "      <td>1953-09-14</td>\n",
       "      <td>15</td>\n",
       "      <td>5.299178e+06</td>\n",
       "    </tr>\n",
       "    <tr>\n",
       "      <th>635</th>\n",
       "      <td>1928-09-24</td>\n",
       "      <td>1953-09-14</td>\n",
       "      <td>15</td>\n",
       "      <td>5.299178e+06</td>\n",
       "    </tr>\n",
       "    <tr>\n",
       "      <th>634</th>\n",
       "      <td>1928-09-24</td>\n",
       "      <td>1953-09-14</td>\n",
       "      <td>15</td>\n",
       "      <td>5.299178e+06</td>\n",
       "    </tr>\n",
       "    <tr>\n",
       "      <th>637</th>\n",
       "      <td>1928-09-25</td>\n",
       "      <td>1953-09-14</td>\n",
       "      <td>15</td>\n",
       "      <td>5.298005e+06</td>\n",
       "    </tr>\n",
       "  </tbody>\n",
       "</table>\n",
       "</div>"
      ],
      "text/plain": [
       "     start_date   end_date  investment_frequency         value\n",
       "1004 1928-09-25 1953-09-14                    30  5.305179e+06\n",
       "636  1928-09-24 1953-09-14                    15  5.299178e+06\n",
       "635  1928-09-24 1953-09-14                    15  5.299178e+06\n",
       "634  1928-09-24 1953-09-14                    15  5.299178e+06\n",
       "637  1928-09-25 1953-09-14                    15  5.298005e+06"
      ]
     },
     "execution_count": 9,
     "metadata": {},
     "output_type": "execute_result"
    }
   ],
   "source": [
    "#Find the worst frequency for investing\n",
    "results_df.sort_values(by=['value'], inplace=True, ascending=False)\n",
    "results_df.tail()"
   ]
  },
  {
   "cell_type": "markdown",
   "id": "2bf7c8e8",
   "metadata": {},
   "source": [
    "### Graphs\n",
    "<p>Display the data in graphs</p>"
   ]
  },
  {
   "cell_type": "markdown",
   "id": "b468c4f2",
   "metadata": {},
   "source": [
    "#### Histogram with 95% confidence interval for our best investment frequency\n",
    "<p>The graph below plots the results in our best investment frequency scenario and shows the 95% confidence interval for it - This means that in 95% of cases you can expect to end up with this amount of money after 25 years of saving with the selected investment frequency.</p>"
   ]
  },
  {
   "cell_type": "code",
   "execution_count": 11,
   "id": "5cf838fd",
   "metadata": {},
   "outputs": [
    {
     "data": {
      "text/plain": [
       "<matplotlib.collections.PolyCollection at 0x2ae82070e20>"
      ]
     },
     "execution_count": 11,
     "metadata": {},
     "output_type": "execute_result"
    },
    {
     "data": {
      "image/png": "[encoded data removed]",
      "text/plain": [
       "<Figure size 1152x648 with 1 Axes>"
      ]
     },
     "metadata": {
      "needs_background": "light"
     },
     "output_type": "display_data"
    }
   ],
   "source": [
    "test_df = results_df[results_df['investment_frequency'] == 7]\n",
    "arr = test_df['value']\n",
    "plt.figure(figsize=(16,9))\n",
    "ci = norm(*norm.fit(arr)).interval(0.95)  # fit a normal distribution and get 95% c.i.\n",
    "height, bins, patches = plt.hist(arr, alpha=0.3, bins=100)\n",
    "plt.fill_betweenx([0, height.max()], ci[0], ci[1], color='g', alpha=0.1)"
   ]
  },
  {
   "cell_type": "markdown",
   "id": "15d3bf4c",
   "metadata": {},
   "source": [
    "## What 25-year period produced the best results?\n",
    "<p>Which 25-year period was the best to be alive and save?</p>"
   ]
  },
  {
   "cell_type": "code",
   "execution_count": 12,
   "id": "7b53859b",
   "metadata": {
    "scrolled": true
   },
   "outputs": [
    {
     "data": {
      "text/html": [
       "<div>\n",
       "<style scoped>\n",
       "    .dataframe tbody tr th:only-of-type {\n",
       "        vertical-align: middle;\n",
       "    }\n",
       "\n",
       "    .dataframe tbody tr th {\n",
       "        vertical-align: top;\n",
       "    }\n",
       "\n",
       "    .dataframe thead th {\n",
       "        text-align: right;\n",
       "    }\n",
       "</style>\n",
       "<table border=\"1\" class=\"dataframe\">\n",
       "  <thead>\n",
       "    <tr style=\"text-align: right;\">\n",
       "      <th></th>\n",
       "      <th>start_date</th>\n",
       "      <th>end_date</th>\n",
       "      <th>investment_frequency</th>\n",
       "      <th>value</th>\n",
       "    </tr>\n",
       "  </thead>\n",
       "  <tbody>\n",
       "    <tr>\n",
       "      <th>1004</th>\n",
       "      <td>1928-09-25</td>\n",
       "      <td>1953-09-14</td>\n",
       "      <td>30</td>\n",
       "      <td>5.305179e+06</td>\n",
       "    </tr>\n",
       "    <tr>\n",
       "      <th>636</th>\n",
       "      <td>1928-09-24</td>\n",
       "      <td>1953-09-14</td>\n",
       "      <td>15</td>\n",
       "      <td>5.299178e+06</td>\n",
       "    </tr>\n",
       "    <tr>\n",
       "      <th>635</th>\n",
       "      <td>1928-09-24</td>\n",
       "      <td>1953-09-14</td>\n",
       "      <td>15</td>\n",
       "      <td>5.299178e+06</td>\n",
       "    </tr>\n",
       "    <tr>\n",
       "      <th>634</th>\n",
       "      <td>1928-09-24</td>\n",
       "      <td>1953-09-14</td>\n",
       "      <td>15</td>\n",
       "      <td>5.299178e+06</td>\n",
       "    </tr>\n",
       "    <tr>\n",
       "      <th>637</th>\n",
       "      <td>1928-09-25</td>\n",
       "      <td>1953-09-14</td>\n",
       "      <td>15</td>\n",
       "      <td>5.298005e+06</td>\n",
       "    </tr>\n",
       "  </tbody>\n",
       "</table>\n",
       "</div>"
      ],
      "text/plain": [
       "     start_date   end_date  investment_frequency         value\n",
       "1004 1928-09-25 1953-09-14                    30  5.305179e+06\n",
       "636  1928-09-24 1953-09-14                    15  5.299178e+06\n",
       "635  1928-09-24 1953-09-14                    15  5.299178e+06\n",
       "634  1928-09-24 1953-09-14                    15  5.299178e+06\n",
       "637  1928-09-25 1953-09-14                    15  5.298005e+06"
      ]
     },
     "execution_count": 12,
     "metadata": {},
     "output_type": "execute_result"
    }
   ],
   "source": [
    "results_df.sort_values(by=['value'], inplace=True, ascending=False)\n",
    "results_df.tail()"
   ]
  }
 ],
 "metadata": {
  "kernelspec": {
   "display_name": "Python 3 (ipykernel)",
   "language": "python",
   "name": "python3"
  },
  "language_info": {
   "codemirror_mode": {
    "name": "ipython",
    "version": 3
   },
   "file_extension": ".py",
   "mimetype": "text/x-python",
   "name": "python",
   "nbconvert_exporter": "python",
   "pygments_lexer": "ipython3",
   "version": "3.9.7"
  }
 },
 "nbformat": 4,
 "nbformat_minor": 5
}
