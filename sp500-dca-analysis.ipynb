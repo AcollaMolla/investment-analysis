{
 "cells": [
  {
   "cell_type": "markdown",
   "id": "8f1cda20",
   "metadata": {},
   "source": [
    "# Questions to answer\n",
    "- What is the best investment frequency (i.e. how often should I invest)?\n",
    "- How much value can I expect my portfolio to be worth after 25 years?\n",
    "- What is the minimum/maximum value of my portfolio after any given 25-year period?\n",
    "- What final value will my portfolio have in 95% of the cases in any given 25-year period?\n",
    "- What 25-year periods produced the best/worst results?"
   ]
  },
  {
   "cell_type": "markdown",
   "id": "d3acc5f0",
   "metadata": {},
   "source": [
    "# Code for simulation\n",
    "The following cells contains the code for running the simulation"
   ]
  },
  {
   "cell_type": "code",
   "execution_count": 5,
   "id": "e4b7fe09",
   "metadata": {},
   "outputs": [],
   "source": [
    "import pandas as pd\n",
    "import glob\n",
    "import matplotlib.pyplot as plt\n",
    "import numpy as np\n",
    "from math import floor\n",
    "from scipy.stats import norm\n",
    "from datetime import datetime, timedelta"
   ]
  },
  {
   "cell_type": "markdown",
   "id": "75a9831e",
   "metadata": {},
   "source": [
    "## Create function for simulating saving for n years"
   ]
  },
  {
   "cell_type": "code",
   "execution_count": 6,
   "id": "67d5ebf1",
   "metadata": {
    "scrolled": true
   },
   "outputs": [],
   "source": [
    "def save_for_n_years_df(df, start_date, end_date, dca_monthly_investment_amount, dca_investment_frequency_per_month):\n",
    "    \n",
    "    df = df[df['Date'] < end_date]\n",
    "    df = df[df['Date'] >= start_date]\n",
    "    df = df.set_index(pd.DatetimeIndex(df['Date'])).resample(f\"{floor(30 / dca_investment_frequency_per_month)}D\").agg('first')\n",
    "    period_last_open = df.iloc[-1]['Open']\n",
    "    df['added_capital'] = dca_monthly_investment_amount / dca_investment_frequency_per_month\n",
    "    df['value_period_end'] = df['added_capital'] * (period_last_open / df['Open'])\n",
    "    return {\"start_date\": df.iloc[0]['Date'], \"end_date\": df.iloc[-1]['Date'], \"investment_frequency\": floor(30 / dca_investment_frequency_per_month), \"value\": df['value_period_end'].sum()}"
   ]
  },
  {
   "cell_type": "markdown",
   "id": "2fdbe2c7",
   "metadata": {},
   "source": [
    "## Set simulation parameters"
   ]
  },
  {
   "cell_type": "code",
   "execution_count": 10,
   "id": "0d9e0eed",
   "metadata": {},
   "outputs": [],
   "source": [
    "#From what date we will start run our simulations\n",
    "simulation_start_date = datetime(1927, 12, 30)\n",
    "\n",
    "#Until what date we will run our simulations\n",
    "simulation_end_date = datetime(1928, 12, 31)\n",
    "\n",
    "#What investment frequencies to test - 4/month, 2/month and 1/month\n",
    "investment_frequencies_per_month = [4, 2, 1, 30/60]\n",
    "\n",
    "#How much will we invest each month\n",
    "monthly_investment_amount = 10000\n",
    "\n",
    "#Investment horizon, i.e. how many years we will save for\n",
    "investment_horizon = 25\n",
    "\n",
    "#Read file containing S&P500 historical data\n",
    "file = r'data/SPX.csv'\n",
    "df = pd.read_csv(file, index_col=None, header=0)\n",
    "\n",
    "#Date column is String, convert to Python Datetime\n",
    "df['Date'] = pd.to_datetime(df['Date'])\n",
    "\n",
    "#Results will go here\n",
    "result = []"
   ]
  },
  {
   "cell_type": "markdown",
   "id": "c78688e2",
   "metadata": {},
   "source": [
    "## Start simulation"
   ]
  },
  {
   "cell_type": "code",
   "execution_count": 11,
   "id": "92155ac7",
   "metadata": {},
   "outputs": [
    {
     "name": "stdout",
     "output_type": "stream",
     "text": [
      "Testing investment frequency of 7 days\n",
      "Testing investment frequency of 15 days\n",
      "Testing investment frequency of 30 days\n",
      "Testing investment frequency of 60 days\n"
     ]
    }
   ],
   "source": [
    "#Loop through each investment frequency\n",
    "for investment_frequency_per_month in investment_frequencies_per_month:\n",
    "    \n",
    "    #Set current date to our simulation start date\n",
    "    simulation_current_date = simulation_start_date\n",
    "    \n",
    "    print(f\"Testing investment frequency of {floor(30 / investment_frequency_per_month)} days\")\n",
    "\n",
    "    #Simulate starting investing\n",
    "    while simulation_current_date < simulation_end_date:\n",
    "    \n",
    "        #Save result - Start date, end date, current frequency and value\n",
    "        result.append(save_for_n_years_df(df, simulation_current_date, simulation_current_date + timedelta(days=365*investment_horizon), monthly_investment_amount, investment_frequency_per_month))\n",
    "    \n",
    "        #Start simulating from \n",
    "        simulation_current_date = simulation_current_date + timedelta(days=1)\n",
    "    \n",
    "#Convert results to df\n",
    "results_df = pd.DataFrame(result)"
   ]
  },
  {
   "cell_type": "markdown",
   "id": "9d5172f2",
   "metadata": {},
   "source": [
    "# Results\n",
    "<p> These are the results after running a simulation where a person invests n SEK for y years"
   ]
  },
  {
   "cell_type": "markdown",
   "id": "aa2738e7",
   "metadata": {},
   "source": [
    "## What is the best investment frequency (i.e. how often should I invest)?\n",
    "<p> What is the best frequency for investing your money? Once a month? Twice a month? Or perhaps more seldom? </p>"
   ]
  },
  {
   "cell_type": "code",
   "execution_count": 12,
   "id": "fc06899f",
   "metadata": {},
   "outputs": [
    {
     "data": {
      "text/html": [
       "<div>\n",
       "<style scoped>\n",
       "    .dataframe tbody tr th:only-of-type {\n",
       "        vertical-align: middle;\n",
       "    }\n",
       "\n",
       "    .dataframe tbody tr th {\n",
       "        vertical-align: top;\n",
       "    }\n",
       "\n",
       "    .dataframe thead tr th {\n",
       "        text-align: left;\n",
       "    }\n",
       "\n",
       "    .dataframe thead tr:last-of-type th {\n",
       "        text-align: right;\n",
       "    }\n",
       "</style>\n",
       "<table border=\"1\" class=\"dataframe\">\n",
       "  <thead>\n",
       "    <tr>\n",
       "      <th></th>\n",
       "      <th colspan=\"4\" halign=\"left\">value</th>\n",
       "    </tr>\n",
       "    <tr>\n",
       "      <th></th>\n",
       "      <th>mean</th>\n",
       "      <th>min</th>\n",
       "      <th>max</th>\n",
       "      <th>median</th>\n",
       "    </tr>\n",
       "    <tr>\n",
       "      <th>investment_frequency</th>\n",
       "      <th></th>\n",
       "      <th></th>\n",
       "      <th></th>\n",
       "      <th></th>\n",
       "    </tr>\n",
       "  </thead>\n",
       "  <tbody>\n",
       "    <tr>\n",
       "      <th>7</th>\n",
       "      <td>6.191325e+06</td>\n",
       "      <td>5.667450e+06</td>\n",
       "      <td>6.683085e+06</td>\n",
       "      <td>6.157920e+06</td>\n",
       "    </tr>\n",
       "    <tr>\n",
       "      <th>15</th>\n",
       "      <td>5.786248e+06</td>\n",
       "      <td>5.298005e+06</td>\n",
       "      <td>6.239944e+06</td>\n",
       "      <td>5.757065e+06</td>\n",
       "    </tr>\n",
       "    <tr>\n",
       "      <th>30</th>\n",
       "      <td>5.791814e+06</td>\n",
       "      <td>5.305179e+06</td>\n",
       "      <td>6.240667e+06</td>\n",
       "      <td>5.766355e+06</td>\n",
       "    </tr>\n",
       "    <tr>\n",
       "      <th>60</th>\n",
       "      <td>5.803698e+06</td>\n",
       "      <td>5.285956e+06</td>\n",
       "      <td>6.257794e+06</td>\n",
       "      <td>5.772346e+06</td>\n",
       "    </tr>\n",
       "  </tbody>\n",
       "</table>\n",
       "</div>"
      ],
      "text/plain": [
       "                             value                                          \n",
       "                              mean           min           max        median\n",
       "investment_frequency                                                        \n",
       "7                     6.191325e+06  5.667450e+06  6.683085e+06  6.157920e+06\n",
       "15                    5.786248e+06  5.298005e+06  6.239944e+06  5.757065e+06\n",
       "30                    5.791814e+06  5.305179e+06  6.240667e+06  5.766355e+06\n",
       "60                    5.803698e+06  5.285956e+06  6.257794e+06  5.772346e+06"
      ]
     },
     "execution_count": 12,
     "metadata": {},
     "output_type": "execute_result"
    }
   ],
   "source": [
    "#Group result by investment frequency\n",
    "results_df.groupby('investment_frequency').agg({'value' : ['mean', 'min', 'max', 'median']})"
   ]
  },
  {
   "cell_type": "markdown",
   "id": "3b69a608",
   "metadata": {},
   "source": [
    "### How much difference is there between the best and the worst investment frequency?\n",
    "<p>How large is the difference in wealth when using the best vs the worst investment frequency?</p>"
   ]
  },
  {
   "cell_type": "code",
   "execution_count": 13,
   "id": "340f9e7c",
   "metadata": {},
   "outputs": [
    {
     "data": {
      "text/plain": [
       "0.39555766300727574"
      ]
     },
     "execution_count": 13,
     "metadata": {},
     "output_type": "execute_result"
    },
    {
     "data": {
      "image/png": "[encoded data removed]",
      "text/plain": [
       "<Figure size 432x288 with 1 Axes>"
      ]
     },
     "metadata": {
      "needs_background": "light"
     },
     "output_type": "display_data"
    }
   ],
   "source": [
    "def percentage_change(col1, col2):\n",
    "    return ((col1 - col2)/col2) * 100\n",
    "\n",
    "portfolio_diff_min_max_frequency = results_df.drop_duplicates(subset=['start_date', 'end_date', 'investment_frequency'])\n",
    "portfolio_diff_min_max_frequency = portfolio_diff_min_max_frequency.loc[(portfolio_diff_min_max_frequency['investment_frequency'] == 7) | (portfolio_diff_min_max_frequency['investment_frequency'] == 60)]\n",
    "portfolio_diff_min_max_frequency = portfolio_diff_min_max_frequency.sort_values(by=['start_date'])\n",
    "portfolio_diff_min_max_frequency['value_diff'] = percentage_change(portfolio_diff_min_max_frequency['value'], portfolio_diff_min_max_frequency['value'].shift(1).fillna(portfolio_diff_min_max_frequency['value']))\n",
    "portfolio_diff_min_max_frequency = portfolio_diff_min_max_frequency[(portfolio_diff_min_max_frequency['investment_frequency'] == 60) & (portfolio_diff_min_max_frequency['value_diff'] > 0)]\n",
    "portfolio_diff_min_max_frequency.plot(kind='scatter', x='start_date', y='value_diff')\n",
    "portfolio_diff_min_max_frequency['value_diff'].mean()"
   ]
  },
  {
   "cell_type": "code",
   "execution_count": 14,
   "id": "171d00e4",
   "metadata": {},
   "outputs": [
    {
     "data": {
      "text/plain": [
       "0.39555766300727574"
      ]
     },
     "execution_count": 14,
     "metadata": {},
     "output_type": "execute_result"
    },
    {
     "data": {
      "image/png": "[encoded data removed]",
      "text/plain": [
       "<Figure size 432x288 with 1 Axes>"
      ]
     },
     "metadata": {
      "needs_background": "light"
     },
     "output_type": "display_data"
    }
   ],
   "source": [
    "def percentage_change(col1, col2):\n",
    "    return ((col1 - col2)/col2) * 100\n",
    "\n",
    "portfolio_diff_min_max_frequency = results_df.drop_duplicates(subset=['start_date', 'end_date', 'investment_frequency'])\n",
    "portfolio_diff_min_max_frequency = portfolio_diff_min_max_frequency.loc[(portfolio_diff_min_max_frequency['investment_frequency'] == 7) | (portfolio_diff_min_max_frequency['investment_frequency'] == 60)]\n",
    "portfolio_diff_min_max_frequency = portfolio_diff_min_max_frequency.sort_values(by=['start_date'])\n",
    "portfolio_diff_min_max_frequency['value_diff'] = percentage_change(portfolio_diff_min_max_frequency['value'], portfolio_diff_min_max_frequency['value'].shift(1).fillna(portfolio_diff_min_max_frequency['value']))\n",
    "portfolio_diff_min_max_frequency = portfolio_diff_min_max_frequency[(portfolio_diff_min_max_frequency['investment_frequency'] == 60) & (portfolio_diff_min_max_frequency['value_diff'] > 0)]\n",
    "portfolio_diff_min_max_frequency.plot(kind='scatter', x='start_date', y='value_diff')\n",
    "portfolio_diff_min_max_frequency['value_diff'].mean()"
   ]
  },
  {
   "cell_type": "markdown",
   "id": "e93529af",
   "metadata": {},
   "source": [
    "#### Histogram with 95% confidence interval for our best investment frequency\n",
    "<p>The graph below plots the results in our best investment frequency scenario and shows the 95% confidence interval for it - This means that in 95% of cases you can expect to end up with this amount of money after 25 years of saving with the selected investment frequency.</p>"
   ]
  },
  {
   "cell_type": "code",
   "execution_count": null,
   "id": "c251e629",
   "metadata": {},
   "outputs": [],
   "source": [
    "test_df = results_df[results_df['investment_frequency'] == 7]\n",
    "arr = test_df['value']\n",
    "plt.figure(figsize=(16,9))\n",
    "ci = norm(*norm.fit(arr)).interval(0.95)  # fit a normal distribution and get 95% c.i.\n",
    "height, bins, patches = plt.hist(arr, alpha=0.3, bins=100)\n",
    "plt.fill_betweenx([0, height.max()], ci[0], ci[1], color='g', alpha=0.1)"
   ]
  },
  {
   "cell_type": "markdown",
   "id": "47da96c9",
   "metadata": {},
   "source": [
    "## What 25-year periods produced the best/worst results?"
   ]
  },
  {
   "cell_type": "code",
   "execution_count": null,
   "id": "0265d05d",
   "metadata": {},
   "outputs": [],
   "source": [
    "#Find the best frequency for investing\n",
    "results_df.sort_values(by=['value'], inplace=True, ascending=False)\n",
    "results_df.head()"
   ]
  },
  {
   "cell_type": "code",
   "execution_count": null,
   "id": "514a5049",
   "metadata": {},
   "outputs": [],
   "source": [
    "#Find the worst frequency for investing\n",
    "results_df.sort_values(by=['value'], inplace=True, ascending=True)\n",
    "results_df.tail()"
   ]
  },
  {
   "cell_type": "markdown",
   "id": "08f1a1bf",
   "metadata": {},
   "source": [
    "# TODO: Combine investment frequency with simulation start dates\n",
    "<p>Shorter investment frequencies might produce superior results just because they happened to be in a strong bull market (such as 1927, 1997 and 2006). It is possible that this gain would be offset in the aftercoming bust however, but I'm not sure. It would be nice to see if a majority of superior investment frequencies happened to be clustered around certain start dates.</p>"
   ]
  },
  {
   "cell_type": "code",
   "execution_count": null,
   "id": "902f2e65",
   "metadata": {},
   "outputs": [],
   "source": [
    "fig, ax = plt.subplots(figsize=(64,32))\n",
    "for key, grp in results_df.groupby(['investment_frequency']):\n",
    "    ax = grp.plot(ax=ax, kind='line', x='start_date', y='value', label=key)\n",
    "    \n",
    "df[df['Date'] <= results_df['end_date'].max()].plot(x='Date', y='Open', figsize=(64,32))\n",
    "plt.fill_betweenx([0, 3500], results_df['start_date'].min(), results_df['start_date'].max(), color='g', alpha=0.1)\n",
    "plt.show()"
   ]
  },
  {
   "cell_type": "markdown",
   "id": "b28083b4",
   "metadata": {},
   "source": [
    "<p>It seems as if choosing a shorter investment frequency we will end up with more money no matter if we are in a bull or bear market.\n",
    "This graph also shows that if we were to invest in late 1930 our portfolio would be worth around 10 millions after 25 year, no matter what investment frequency we chose. However, if we were to invest in late 1928 (at the peak of the Roaring 20's boom) our portfolio would be worth \"only\" ~6 millions after 25 years.\n",
    "</p>"
   ]
  },
  {
   "cell_type": "markdown",
   "id": "15d3bf4c",
   "metadata": {},
   "source": []
  },
  {
   "cell_type": "code",
   "execution_count": null,
   "id": "7b53859b",
   "metadata": {
    "scrolled": true
   },
   "outputs": [],
   "source": []
  }
 ],
 "metadata": {
  "kernelspec": {
   "display_name": "Python 3 (ipykernel)",
   "language": "python",
   "name": "python3"
  },
  "language_info": {
   "codemirror_mode": {
    "name": "ipython",
    "version": 3
   },
   "file_extension": ".py",
   "mimetype": "text/x-python",
   "name": "python",
   "nbconvert_exporter": "python",
   "pygments_lexer": "ipython3",
   "version": "3.7.3"
  }
 },
 "nbformat": 4,
 "nbformat_minor": 5
}
