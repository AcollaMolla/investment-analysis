{
 "cells": [
  {
   "cell_type": "markdown",
   "metadata": {},
   "source": [
    "# Data Scraper\n",
    "\n",
    "Use this Notebook to scrape data from Lazy ETF Website which contains rich historical data for different kinds of portfolios"
   ]
  },
  {
   "cell_type": "code",
   "execution_count": 2,
   "metadata": {},
   "outputs": [],
   "source": [
    "import requests\n",
    "import pandas as pd\n",
    "import numpy as np\n",
    "import matplotlib.pyplot as plt\n",
    "import seaborn as sns\n",
    "from bs4 import BeautifulSoup\n",
    "from os import path\n",
    "from datetime import datetime, timedelta\n",
    "from scipy.stats import norm"
   ]
  },
  {
   "cell_type": "code",
   "execution_count": 3,
   "metadata": {},
   "outputs": [],
   "source": [
    "def convert_yearly_return_to_numeric(yearly_return_string):\n",
    "    \n",
    "    #Check if it is a positive return\n",
    "    if '+' in yearly_return_string:\n",
    "        yearly_return_string = yearly_return_string.replace('+', '')\n",
    "        yearly_return_numeric = float(yearly_return_string)\n",
    "        yearly_return_numeric = (100 + yearly_return_numeric)/100\n",
    "        \n",
    "    else:\n",
    "        yearly_return_string = yearly_return_string.replace('-', '')\n",
    "        yearly_return_numeric = float(yearly_return_string)\n",
    "        yearly_return_numeric = (100 - yearly_return_numeric)/100\n",
    "    \n",
    "    return yearly_return_numeric\n",
    "    "
   ]
  },
  {
   "cell_type": "code",
   "execution_count": 4,
   "metadata": {},
   "outputs": [],
   "source": [
    "def find_yearly_returns(soup):\n",
    "    \n",
    "    result = []\n",
    "    \n",
    "    html_table = soup.find('table', id='yearReturns')\n",
    "    html_table_tbody = html_table.find('tbody')\n",
    "    html_table_tbody_rows = html_table_tbody.findAll('tr')\n",
    "    \n",
    "    for row in html_table_tbody_rows:\n",
    "        current_year = row.find('td').text\n",
    "        total = convert_yearly_return_to_numeric(row.find_all('td')[1].text)\n",
    "        inflation_adjusted = convert_yearly_return_to_numeric(row.find_all('td')[2].text)\n",
    "        result.append({'year': current_year, 'inflation_adjusted': inflation_adjusted, 'total': total})\n",
    "        \n",
    "    return result"
   ]
  },
  {
   "cell_type": "code",
   "execution_count": 5,
   "metadata": {},
   "outputs": [],
   "source": [
    "def fetch_portfolio_results(portfolio_name):\n",
    "    base_url = \"http://www.lazyportfolioetf.com/allocation\"\n",
    "    portfolio = \"stocks-bonds-60-40\"\n",
    "    url = f\"{base_url}/{portfolio_name}/\"\n",
    "\n",
    "    req = requests.get(url)\n",
    "    soup = BeautifulSoup(req.text, \"html.parser\")\n",
    "    \n",
    "    df = pd.DataFrame(find_yearly_returns(soup))\n",
    "    df['year'] = pd.DatetimeIndex(df['year']).year\n",
    "\n",
    "    return df"
   ]
  },
  {
   "cell_type": "code",
   "execution_count": 7,
   "metadata": {},
   "outputs": [],
   "source": [
    "def read_portfolio_results(portfolio_name):\n",
    "    \n",
    "    file = r'data/' + portfolio_name + '.csv'\n",
    "    \n",
    "    try:\n",
    "        df = pd.read_csv(file, index_col=None, header=0)\n",
    "        return df\n",
    "    except:\n",
    "        print(f\"Data for portfolio {portfolio_name} not found locally...Will scrape it from Lazy ETF\")\n",
    "        df = fetch_portfolio_results(portfolio_name)\n",
    "        df.to_csv(f\"data/{portfolio_name}.csv\")\n",
    "        return df"
   ]
  },
  {
   "cell_type": "markdown",
   "metadata": {},
   "source": [
    "# Start simulations\n",
    "Run simulations for withdrawing n % of money from the portfolio each year"
   ]
  },
  {
   "cell_type": "code",
   "execution_count": 8,
   "metadata": {},
   "outputs": [],
   "source": [
    "#Set start date, number of years, withdrawal rate, etc.\n",
    "start_year = datetime(1871, 1, 1).year\n",
    "end_year = datetime(1972,1 , 1).year\n",
    "withdrawal_rate = 0.035\n",
    "number_of_years_to_withdraw = 50\n",
    "portfolio_start_value = 500000\n",
    "\n",
    "portfolios = ['stocks-bonds-40-60', 'stocks-bonds-60-40', 'stocks-bonds-80-20', 'harry-browne-permanent', 'us-stocks', 'gold']"
   ]
  },
  {
   "cell_type": "code",
   "execution_count": 9,
   "metadata": {},
   "outputs": [],
   "source": [
    "def forward_fill_portfolio_value(df, start_year, end_year, withdrawal_rate, portfolio_start_value):\n",
    "    for i in range(start_year, end_year + 1):\n",
    "        df.loc[i, 'portfolio_value'] = (df.loc[i-1, 'portfolio_value'] * df.loc[i, 'inflation_adjusted'])\n",
    "        df.loc[i, 'portfolio_value'] = df.loc[i, 'portfolio_value'] - (portfolio_start_value * withdrawal_rate)\n",
    "    df = df.set_index(df['year'])\n",
    "    return df"
   ]
  },
  {
   "cell_type": "code",
   "execution_count": 10,
   "metadata": {},
   "outputs": [],
   "source": [
    "def withdraw_for_n_years(df, start_year, end_year, withdrawal_rate, portfolio_start_value, portfolio_name):\n",
    "    \n",
    "    df = df[df['year'] <= end_year]\n",
    "    df = df[df['year'] >= start_year]\n",
    "    df = df.set_index(df['year'])\n",
    "\n",
    "    df.loc[start_year, 'portfolio_value'] = portfolio_start_value\n",
    "    df = forward_fill_portfolio_value(df, start_year + 1, end_year, withdrawal_rate, portfolio_start_value)\n",
    "    #display(df)\n",
    "    df = df[df['portfolio_value'] >= (portfolio_start_value * withdrawal_rate)]\n",
    "    #years_survived = relativedelta(df['Date'].iloc[-1], df['Date'].iloc[0]).years\n",
    "    \n",
    "    if(len(df) == 0):\n",
    "        return {\"start_date\": start_date, \"end_date\": None, \"years_survival\": 0}\n",
    "    \n",
    "    return {\"start_date\": df.iloc[-1]['year'], \"end_date\": df.iloc[0]['year'], \"years_survival\": len(df) - 1, \"portfolio_end_value\": df.iloc[0]['portfolio_value'], \"portfolio_name\": portfolio_name}"
   ]
  },
  {
   "cell_type": "code",
   "execution_count": 11,
   "metadata": {},
   "outputs": [
    {
     "name": "stdout",
     "output_type": "stream",
     "text": [
      "Running simulations on portfolio: stocks-bonds-40-60\n",
      "Running simulations on portfolio: stocks-bonds-60-40\n",
      "Running simulations on portfolio: stocks-bonds-80-20\n",
      "Running simulations on portfolio: harry-browne-permanent\n",
      "Running simulations on portfolio: us-stocks\n",
      "Running simulations on portfolio: gold\n"
     ]
    },
    {
     "data": {
      "text/html": [
       "<div>\n",
       "<style scoped>\n",
       "    .dataframe tbody tr th:only-of-type {\n",
       "        vertical-align: middle;\n",
       "    }\n",
       "\n",
       "    .dataframe tbody tr th {\n",
       "        vertical-align: top;\n",
       "    }\n",
       "\n",
       "    .dataframe thead tr th {\n",
       "        text-align: left;\n",
       "    }\n",
       "\n",
       "    .dataframe thead tr:last-of-type th {\n",
       "        text-align: right;\n",
       "    }\n",
       "</style>\n",
       "<table border=\"1\" class=\"dataframe\">\n",
       "  <thead>\n",
       "    <tr>\n",
       "      <th></th>\n",
       "      <th colspan=\"4\" halign=\"left\">years_survival</th>\n",
       "    </tr>\n",
       "    <tr>\n",
       "      <th></th>\n",
       "      <th>mean</th>\n",
       "      <th>min</th>\n",
       "      <th>max</th>\n",
       "      <th>median</th>\n",
       "    </tr>\n",
       "    <tr>\n",
       "      <th>portfolio_name</th>\n",
       "      <th></th>\n",
       "      <th></th>\n",
       "      <th></th>\n",
       "      <th></th>\n",
       "    </tr>\n",
       "  </thead>\n",
       "  <tbody>\n",
       "    <tr>\n",
       "      <th>gold</th>\n",
       "      <td>28.772277</td>\n",
       "      <td>15</td>\n",
       "      <td>50</td>\n",
       "      <td>27</td>\n",
       "    </tr>\n",
       "    <tr>\n",
       "      <th>harry-browne-permanent</th>\n",
       "      <td>44.465347</td>\n",
       "      <td>27</td>\n",
       "      <td>50</td>\n",
       "      <td>50</td>\n",
       "    </tr>\n",
       "    <tr>\n",
       "      <th>stocks-bonds-40-60</th>\n",
       "      <td>49.702970</td>\n",
       "      <td>42</td>\n",
       "      <td>50</td>\n",
       "      <td>50</td>\n",
       "    </tr>\n",
       "    <tr>\n",
       "      <th>stocks-bonds-60-40</th>\n",
       "      <td>50.000000</td>\n",
       "      <td>50</td>\n",
       "      <td>50</td>\n",
       "      <td>50</td>\n",
       "    </tr>\n",
       "    <tr>\n",
       "      <th>stocks-bonds-80-20</th>\n",
       "      <td>50.000000</td>\n",
       "      <td>50</td>\n",
       "      <td>50</td>\n",
       "      <td>50</td>\n",
       "    </tr>\n",
       "    <tr>\n",
       "      <th>us-stocks</th>\n",
       "      <td>49.950495</td>\n",
       "      <td>45</td>\n",
       "      <td>50</td>\n",
       "      <td>50</td>\n",
       "    </tr>\n",
       "  </tbody>\n",
       "</table>\n",
       "</div>"
      ],
      "text/plain": [
       "                       years_survival               \n",
       "                                 mean min max median\n",
       "portfolio_name                                      \n",
       "gold                        28.772277  15  50     27\n",
       "harry-browne-permanent      44.465347  27  50     50\n",
       "stocks-bonds-40-60          49.702970  42  50     50\n",
       "stocks-bonds-60-40          50.000000  50  50     50\n",
       "stocks-bonds-80-20          50.000000  50  50     50\n",
       "us-stocks                   49.950495  45  50     50"
      ]
     },
     "metadata": {},
     "output_type": "display_data"
    },
    {
     "data": {
      "text/html": [
       "<div>\n",
       "<style scoped>\n",
       "    .dataframe tbody tr th:only-of-type {\n",
       "        vertical-align: middle;\n",
       "    }\n",
       "\n",
       "    .dataframe tbody tr th {\n",
       "        vertical-align: top;\n",
       "    }\n",
       "\n",
       "    .dataframe thead tr th {\n",
       "        text-align: left;\n",
       "    }\n",
       "\n",
       "    .dataframe thead tr:last-of-type th {\n",
       "        text-align: right;\n",
       "    }\n",
       "</style>\n",
       "<table border=\"1\" class=\"dataframe\">\n",
       "  <thead>\n",
       "    <tr>\n",
       "      <th></th>\n",
       "      <th colspan=\"4\" halign=\"left\">portfolio_end_value</th>\n",
       "    </tr>\n",
       "    <tr>\n",
       "      <th></th>\n",
       "      <th>mean</th>\n",
       "      <th>min</th>\n",
       "      <th>max</th>\n",
       "      <th>median</th>\n",
       "    </tr>\n",
       "    <tr>\n",
       "      <th>portfolio_name</th>\n",
       "      <th></th>\n",
       "      <th></th>\n",
       "      <th></th>\n",
       "      <th></th>\n",
       "    </tr>\n",
       "  </thead>\n",
       "  <tbody>\n",
       "    <tr>\n",
       "      <th>gold</th>\n",
       "      <td>8.920826e+04</td>\n",
       "      <td>17649.968530</td>\n",
       "      <td>1.581360e+06</td>\n",
       "      <td>2.743642e+04</td>\n",
       "    </tr>\n",
       "    <tr>\n",
       "      <th>harry-browne-permanent</th>\n",
       "      <td>3.851320e+05</td>\n",
       "      <td>17630.241540</td>\n",
       "      <td>2.099601e+06</td>\n",
       "      <td>2.415723e+05</td>\n",
       "    </tr>\n",
       "    <tr>\n",
       "      <th>stocks-bonds-40-60</th>\n",
       "      <td>8.957799e+05</td>\n",
       "      <td>17874.215116</td>\n",
       "      <td>3.736398e+06</td>\n",
       "      <td>5.883348e+05</td>\n",
       "    </tr>\n",
       "    <tr>\n",
       "      <th>stocks-bonds-60-40</th>\n",
       "      <td>2.067499e+06</td>\n",
       "      <td>135414.451693</td>\n",
       "      <td>7.855289e+06</td>\n",
       "      <td>1.534211e+06</td>\n",
       "    </tr>\n",
       "    <tr>\n",
       "      <th>stocks-bonds-80-20</th>\n",
       "      <td>3.809659e+06</td>\n",
       "      <td>399056.274926</td>\n",
       "      <td>1.428902e+07</td>\n",
       "      <td>2.734392e+06</td>\n",
       "    </tr>\n",
       "    <tr>\n",
       "      <th>us-stocks</th>\n",
       "      <td>6.134898e+06</td>\n",
       "      <td>40424.895492</td>\n",
       "      <td>2.612971e+07</td>\n",
       "      <td>3.999505e+06</td>\n",
       "    </tr>\n",
       "  </tbody>\n",
       "</table>\n",
       "</div>"
      ],
      "text/plain": [
       "                       portfolio_end_value                               \\\n",
       "                                      mean            min           max   \n",
       "portfolio_name                                                            \n",
       "gold                          8.920826e+04   17649.968530  1.581360e+06   \n",
       "harry-browne-permanent        3.851320e+05   17630.241540  2.099601e+06   \n",
       "stocks-bonds-40-60            8.957799e+05   17874.215116  3.736398e+06   \n",
       "stocks-bonds-60-40            2.067499e+06  135414.451693  7.855289e+06   \n",
       "stocks-bonds-80-20            3.809659e+06  399056.274926  1.428902e+07   \n",
       "us-stocks                     6.134898e+06   40424.895492  2.612971e+07   \n",
       "\n",
       "                                      \n",
       "                              median  \n",
       "portfolio_name                        \n",
       "gold                    2.743642e+04  \n",
       "harry-browne-permanent  2.415723e+05  \n",
       "stocks-bonds-40-60      5.883348e+05  \n",
       "stocks-bonds-60-40      1.534211e+06  \n",
       "stocks-bonds-80-20      2.734392e+06  \n",
       "us-stocks               3.999505e+06  "
      ]
     },
     "metadata": {},
     "output_type": "display_data"
    }
   ],
   "source": [
    "result = []\n",
    "\n",
    "for portfolio_name in portfolios:\n",
    "    \n",
    "    print(f\"Running simulations on portfolio: {portfolio_name}\")\n",
    "    \n",
    "    df = fetch_portfolio_results(portfolio_name)\n",
    "\n",
    "    for current_year in range(start_year, end_year):\n",
    "    \n",
    "        result.append(withdraw_for_n_years(df, current_year, current_year + number_of_years_to_withdraw, withdrawal_rate, portfolio_start_value, portfolio_name))\n",
    "    \n",
    "results_df = pd.DataFrame(result)\n",
    "\n",
    "display(results_df.groupby('portfolio_name').agg({'years_survival' : ['mean', 'min', 'max', 'median']}))\n",
    "display(results_df.groupby('portfolio_name').agg({'portfolio_end_value' : ['mean', 'min', 'max', 'median']}))"
   ]
  },
  {
   "cell_type": "code",
   "execution_count": 343,
   "metadata": {},
   "outputs": [
    {
     "data": {
      "text/plain": [
       "array([[<matplotlib.axes._subplots.AxesSubplot object at 0x00000185D5EBED48>,\n",
       "        <matplotlib.axes._subplots.AxesSubplot object at 0x00000185E52C2F88>],\n",
       "       [<matplotlib.axes._subplots.AxesSubplot object at 0x00000185E544F0C8>,\n",
       "        <matplotlib.axes._subplots.AxesSubplot object at 0x00000185E5421148>],\n",
       "       [<matplotlib.axes._subplots.AxesSubplot object at 0x00000185E6225E88>,\n",
       "        <matplotlib.axes._subplots.AxesSubplot object at 0x00000185E65654C8>]],\n",
       "      dtype=object)"
      ]
     },
     "execution_count": 343,
     "metadata": {},
     "output_type": "execute_result"
    },
    {
     "data": {
      "image/png": "[encoded data removed]",
      "text/plain": [
       "<Figure size 432x288 with 6 Axes>"
      ]
     },
     "metadata": {
      "needs_background": "light"
     },
     "output_type": "display_data"
    }
   ],
   "source": [
    "results_df['portfolio_end_value'].hist(by=results_df['portfolio_name'], bins=100)"
   ]
  },
  {
   "cell_type": "code",
   "execution_count": 288,
   "metadata": {},
   "outputs": [
    {
     "data": {
      "text/plain": [
       "<matplotlib.collections.PolyCollection at 0x185c6cb1648>"
      ]
     },
     "execution_count": 288,
     "metadata": {},
     "output_type": "execute_result"
    },
    {
     "data": {
      "image/png": "[encoded data removed]",
      "text/plain": [
       "<Figure size 1152x648 with 1 Axes>"
      ]
     },
     "metadata": {
      "needs_background": "light"
     },
     "output_type": "display_data"
    }
   ],
   "source": [
    "test_df = results_df\n",
    "arr = test_df['years_survival']\n",
    "plt.figure(figsize=(16,9))\n",
    "ci = norm(*norm.fit(arr)).interval(0.95)  # fit a normal distribution and get 95% c.i.\n",
    "height, bins, patches = plt.hist(arr, alpha=0.3, bins=100)\n",
    "plt.fill_betweenx([0, height.max()], ci[0], ci[1], color='g', alpha=0.1)"
   ]
  }
 ],
 "metadata": {
  "kernelspec": {
   "display_name": "Python 3",
   "language": "python",
   "name": "python3"
  },
  "language_info": {
   "codemirror_mode": {
    "name": "ipython",
    "version": 3
   },
   "file_extension": ".py",
   "mimetype": "text/x-python",
   "name": "python",
   "nbconvert_exporter": "python",
   "pygments_lexer": "ipython3",
   "version": "3.7.6"
  }
 },
 "nbformat": 4,
 "nbformat_minor": 4
}
